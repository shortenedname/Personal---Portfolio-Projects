{
 "cells": [
  {
   "cell_type": "code",
   "execution_count": 31,
   "metadata": {},
   "outputs": [
    {
     "name": "stdout",
     "output_type": "stream",
     "text": [
      "trying pitching stats Empty DataFrame\n",
      "Columns: [IDfg]\n",
      "Index: []\n",
      "trying batting stats Empty DataFrame\n",
      "Columns: [IDfg]\n",
      "Index: []\n",
      "This is a large query, it may take a moment to complete\n"
     ]
    },
    {
     "name": "stderr",
     "output_type": "stream",
     "text": [
      "100%|████████████████████████████████████████████████████████████████████████████████████| 2/2 [00:05<00:00,  2.69s/it]\n"
     ]
    },
    {
     "name": "stdout",
     "output_type": "stream",
     "text": [
      "                Name  Age  #days     Lev           Tm   G  PA  AB   R   H  \\\n",
      "1  Jos\\xc3\\xa9 Abreu   35    437  Maj-AL      Chicago  13  58  48   7  16   \n",
      "2   Ronald Acuna Jr.   24    437  Maj-NL      Atlanta  13  56  48  12  17   \n",
      "3       Willy Adames   26    437  Maj-NL    Milwaukee   3  12  11   2   1   \n",
      "4        Riley Adams   26    438  Maj-NL   Washington   5  20  17   3   5   \n",
      "5           Jo Adell   23    437  Maj-AL  Los Angeles   6  21  19   1   7   \n",
      "\n",
      "   ...  SH  SF  GDP  SB  CS     BA    OBP    SLG    OPS   mlbID  \n",
      "1  ...   0   0    1   0   0  0.333  0.448  0.479  0.928  547989  \n",
      "2  ...   0   1    1   3   3  0.354  0.429  0.625  1.054  660670  \n",
      "3  ...   0   0    0   0   0  0.091  0.167  0.364  0.530  642715  \n",
      "4  ...   0   0    1   0   0  0.294  0.400  0.471  0.871  656180  \n",
      "5  ...   0   0    2   0   0  0.368  0.429  0.474  0.902  666176  \n",
      "\n",
      "[5 rows x 28 columns]\n",
      "              Name  Age  #days     Lev                 Tm  G  GS    W    L  \\\n",
      "1     Albert Abreu   26    437  Maj-AL  Kansas City,Texas  4   0  NaN  NaN   \n",
      "2      Bryan Abreu   25    437  Maj-AL            Houston  5   0  1.0  NaN   \n",
      "3  Domingo Acevedo   28    439  Maj-AL            Oakland  6   0  NaN  NaN   \n",
      "4       Jason Adam   30    438  Maj-AL          Tampa Bay  7   0  NaN  NaN   \n",
      "5        Joan Adon   23    440  Maj-NL         Washington  3   3  NaN  2.0   \n",
      "\n",
      "    SV  ...   StL   StS  GB/FB    LD    PU   WHIP  BAbip   SO9  SO/W   mlbID  \n",
      "1  NaN  ...  0.14  0.08   0.69  0.15  0.00  2.000  0.333   6.8  1.00  656061  \n",
      "2  NaN  ...  0.13  0.19   0.50  0.20  0.30  0.800  0.200  12.6  3.50  650556  \n",
      "3  NaN  ...  0.09  0.16   0.38  0.15  0.15  1.071  0.091   7.7  1.33  642758  \n",
      "4  1.0  ...  0.15  0.14   0.40  0.27  0.07  0.947  0.267   8.5  3.00  592094  \n",
      "5  NaN  ...  0.17  0.04   0.54  0.19  0.04  1.884  0.333   5.7  1.13  672851  \n",
      "\n",
      "[5 rows x 41 columns]\n"
     ]
    }
   ],
   "source": [
    "import pandas as pd\n",
    "import numpy as np\n",
    "import os, sys\n",
    "#!pip3 install pybaseball\n",
    "\n",
    "START = 2002\n",
    "END = 2021\n",
    "\n",
    "\n",
    "\n",
    "from pybaseball import pitching_stats\n",
    "from pybaseball import batting_stats_range\n",
    "from pybaseball import pitching_stats_range\n",
    "data = pitching_stats(START,END)\n",
    "print(\"trying pitching stats\", data)\n",
    "\n",
    "check_if_works = batting_stats(2003, 2005)\n",
    "\n",
    "print(\"trying batting stats\", check_if_works)\n",
    "\n",
    "from pybaseball import statcast\n",
    "statcast(start_dt=\"2019-06-24\", end_dt=\"2019-06-25\").columns\n",
    "\n",
    "data2 = batting_stats_range(\"2022-05-26\", \"2022-06-10\")\n",
    "print(data2.head())\n",
    "\n",
    "data3 = pitching_stats_range(\"2022-05-26\", \"2022-06-10\")\n",
    "print(data3.head())"
   ]
  }
 ],
 "metadata": {
  "kernelspec": {
   "display_name": "Python 3 (ipykernel)",
   "language": "python",
   "name": "python3"
  },
  "orig_nbformat": 4
 },
 "nbformat": 4,
 "nbformat_minor": 2
}
